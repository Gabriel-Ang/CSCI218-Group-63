{
  "nbformat": 4,
  "nbformat_minor": 0,
  "metadata": {
    "colab": {
      "provenance": []
    },
    "kernelspec": {
      "name": "python3",
      "display_name": "Python 3"
    },
    "language_info": {
      "name": "python"
    }
  },
  "cells": [
    {
      "cell_type": "code",
      "execution_count": null,
      "metadata": {
        "colab": {
          "base_uri": "https://localhost:8080/"
        },
        "id": "8RhhlxY3kWmT",
        "outputId": "8f9e883e-87a4-4fce-c041-c94e94629bc5"
      },
      "outputs": [
        {
          "output_type": "stream",
          "name": "stdout",
          "text": [
            "Accuracy: 0.3215\n",
            "Classification Report:\n",
            "               precision    recall  f1-score   support\n",
            "\n",
            "           3       0.09      0.33      0.14         6\n",
            "           4       0.30      0.19      0.23        43\n",
            "           5       0.52      0.42      0.46       428\n",
            "           6       0.45      0.35      0.39       567\n",
            "           7       0.25      0.12      0.17       216\n",
            "           8       0.06      0.05      0.05        39\n",
            "           9       0.00      1.00      0.01         1\n",
            "\n",
            "    accuracy                           0.32      1300\n",
            "   macro avg       0.24      0.35      0.21      1300\n",
            "weighted avg       0.42      0.32      0.36      1300\n",
            "\n"
          ]
        }
      ],
      "source": [
        "import pandas as pd\n",
        "from sklearn.model_selection import train_test_split\n",
        "from sklearn.preprocessing import StandardScaler\n",
        "from sklearn.naive_bayes import GaussianNB\n",
        "from sklearn.metrics import accuracy_score, classification_report\n",
        "\n",
        "# Load datasets\n",
        "red_wine = pd.read_csv(\"winequality-red.csv\", sep=\";\")\n",
        "white_wine = pd.read_csv(\"winequality-white.csv\", sep=\";\")\n",
        "\n",
        "# Add a feature to distinguish wine types\n",
        "red_wine[\"wine_type\"] = 0  # 0 for red wine\n",
        "white_wine[\"wine_type\"] = 1  # 1 for white wine\n",
        "\n",
        "# Combine datasets\n",
        "wine_data = pd.concat([red_wine, white_wine], axis=0).reset_index(drop=True)\n",
        "\n",
        "# Define features and target\n",
        "X = wine_data.drop(columns=[\"quality\"])\n",
        "y = wine_data[\"quality\"]\n",
        "\n",
        "# Normalize features\n",
        "scaler = StandardScaler()\n",
        "X_scaled = scaler.fit_transform(X)\n",
        "\n",
        "# Split into training (80%) and testing (20%) sets\n",
        "X_train, X_test, y_train, y_test = train_test_split(\n",
        "    X_scaled, y, test_size=0.2, random_state=42, stratify=y\n",
        ")\n",
        "\n",
        "# Train Naive Bayes model\n",
        "model = GaussianNB()\n",
        "model.fit(X_train, y_train)\n",
        "\n",
        "# Make predictions\n",
        "y_pred = model.predict(X_test)\n",
        "\n",
        "# Evaluate model\n",
        "accuracy = accuracy_score(y_test, y_pred)\n",
        "report = classification_report(y_test, y_pred)\n",
        "\n",
        "# Print results\n",
        "print(f\"Accuracy: {accuracy:.4f}\")\n",
        "print(\"Classification Report:\\n\", report)\n"
      ]
    }
  ]
}